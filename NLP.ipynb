{
  "nbformat": 4,
  "nbformat_minor": 0,
  "metadata": {
    "colab": {
      "name": "Untitled2.ipynb",
      "provenance": [],
      "authorship_tag": "ABX9TyPM2oqgKyU9AKvh/m66dGEL",
      "include_colab_link": true
    },
    "kernelspec": {
      "name": "python3",
      "display_name": "Python 3"
    },
    "language_info": {
      "name": "python"
    }
  },
  "cells": [
    {
      "cell_type": "markdown",
      "metadata": {
        "id": "view-in-github",
        "colab_type": "text"
      },
      "source": [
        "<a href=\"https://colab.research.google.com/github/muhammad-usama-aleem/ML-Day-20-NLP/blob/main/NLP.ipynb\" target=\"_parent\"><img src=\"https://colab.research.google.com/assets/colab-badge.svg\" alt=\"Open In Colab\"/></a>"
      ]
    },
    {
      "cell_type": "code",
      "metadata": {
        "id": "cbKVloydH3ri"
      },
      "source": [
        "import numpy as np\n",
        "import matplotlib.pyplot as plt\n",
        "import pandas as pd\n",
        "\n",
        "# importing dataset\n",
        "dataset = pd.read_csv('Restaurant_Reviews.tsv', delimiter = '\\t', quoting = 3)\n",
        "# delimiter means that the deciding factor is a tab\n",
        "# quoting means that we decide to ignore the quote as deciding parameter\n",
        "\n",
        "# cleaning the text\n",
        "import re\n",
        "import nltk\n",
        "nltk.download('stopwords')\n",
        "from nltk.corpus import stopwords\n",
        "from nltk.stem.porter import PorterStemmer\n",
        "corpus = []\n",
        "# loop for all the 1000 lines\n",
        "for i in range(0, 1000):\n",
        "  # to ignore all the letter except space, small and capital letters\n",
        "  review = re.sub('[^a-zA-Z]', ' ', dataset['Review'][i])\n",
        "  # to lowercase all the letter\n",
        "  review = review.lower()\n",
        "  # to split str in array\n",
        "  review = review.split()\n",
        "  ps = PorterStemmer()\n",
        "  # 'stopwords' to remove all the useless words like this, the\n",
        "  # 'PorterStemmer' to trim all the words like change the past tense into present\n",
        "  review = [ps.stem(word) for word in review if not word in (stopwords.words('english'))]\n",
        "  # to join the array and make it a str\n",
        "  review = ' '.join(review)\n",
        "  corpus.append(review)\n"
      ],
      "execution_count": null,
      "outputs": []
    },
    {
      "cell_type": "markdown",
      "metadata": {
        "id": "Fk6ANbsWSigF"
      },
      "source": [
        "### creating bag of words model"
      ]
    },
    {
      "cell_type": "code",
      "metadata": {
        "id": "w5Lz9qAgMrwZ"
      },
      "source": [
        "from sklearn.feature_extraction.text import CountVectorizer\n",
        "# 'max_features = 1500' beacuse currently our bag of words contains 1565 coulumn \n",
        "#  some are useless like 'Rick' which apears only once,\n",
        "#  so we will remove some words \n",
        "cv = CountVectorizer(max_features = 1500)\n",
        "X = cv.fit_transform(corpus).toarray()\n",
        "y = dataset.iloc[:, 1].values"
      ],
      "execution_count": 13,
      "outputs": []
    },
    {
      "cell_type": "markdown",
      "metadata": {
        "id": "zcEkOtQUSwco"
      },
      "source": [
        "### Classification part"
      ]
    },
    {
      "cell_type": "code",
      "metadata": {
        "colab": {
          "base_uri": "https://localhost:8080/"
        },
        "id": "-j9NNhDNQRPK",
        "outputId": "7579bb18-7e6d-4e72-932a-06018da861f3"
      },
      "source": [
        "# Splitting the dataset into the Training set and Test set\n",
        "from sklearn.model_selection import train_test_split\n",
        "X_train, X_test, y_train, y_test = train_test_split(X, y, test_size = 0.20, random_state = 0)\n",
        "\n",
        "# Training the Naive Bayes model on the Training set\n",
        "from sklearn.naive_bayes import GaussianNB\n",
        "classifier = GaussianNB()\n",
        "classifier.fit(X_train, y_train)\n",
        "\n",
        "# Predicting the Test set results\n",
        "y_pred = classifier.predict(X_test)\n",
        "\n",
        "# Making the Confusion Matrix\n",
        "from sklearn.metrics import confusion_matrix\n",
        "cm = confusion_matrix(y_test, y_pred)\n",
        "print(cm)"
      ],
      "execution_count": 15,
      "outputs": [
        {
          "output_type": "stream",
          "name": "stdout",
          "text": [
            "[[55 42]\n",
            " [12 91]]\n"
          ]
        }
      ]
    }
  ]
}